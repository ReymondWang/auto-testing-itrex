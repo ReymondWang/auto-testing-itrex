{
 "cells": [
  {
   "cell_type": "code",
   "execution_count": 1,
   "id": "969b56f7-7f4e-4837-845e-8154af637aba",
   "metadata": {},
   "outputs": [
    {
     "name": "stderr",
     "output_type": "stream",
     "text": [
      "Using `disable_exllama` is deprecated and will be removed in version 4.37. Use `use_exllama` instead and specify the version with `exllama_config`.The value of `use_exllama` will be overwritten by `disable_exllama` passed in `GPTQConfig` or stored in your config file.\n",
      "CUDA extension not installed.\n",
      "CUDA extension not installed.\n",
      "/root/miniconda3/envs/itrex/lib/python3.10/site-packages/transformers/modeling_utils.py:4225: FutureWarning: `_is_quantized_training_enabled` is going to be deprecated in transformers 4.39.0. Please use `model.hf_quantizer.is_trainable` instead\n",
      "  warnings.warn(\n",
      "Setting `pad_token_id` to `eos_token_id`:2 for open-end generation.\n"
     ]
    },
    {
     "name": "stdout",
     "output_type": "stream",
     "text": [
      "<s> There is a girl who likes adventure, who loves to travel, who is always looking for new experiences. She is a dreamer, a doer, a thinker, a believer. She is a girl who is not afraid to take risks, to make mistakes, to learn from\n"
     ]
    }
   ],
   "source": [
    "from transformers import AutoModelForCausalLM, AutoTokenizer\n",
    "quantized_model_dir = \"../../pretrained-model/neural-chat-7b-v3-1-int4-inc\"\n",
    "model = AutoModelForCausalLM.from_pretrained(quantized_model_dir,\n",
    "                                             device_map=\"auto\",\n",
    "                                             trust_remote_code=False\n",
    "                                             )\n",
    "tokenizer = AutoTokenizer.from_pretrained(quantized_model_dir, use_fast=True)\n",
    "print(tokenizer.decode(model.generate(**tokenizer(\"There is a girl who likes adventure,\", return_tensors=\"pt\").to(model.device),max_new_tokens=50)[0]))"
   ]
  },
  {
   "cell_type": "code",
   "execution_count": null,
   "id": "e327d228-03e4-4eab-bbdc-82197f1b50e9",
   "metadata": {},
   "outputs": [],
   "source": []
  }
 ],
 "metadata": {
  "kernelspec": {
   "display_name": "itrex",
   "language": "python",
   "name": "itrex"
  },
  "language_info": {
   "codemirror_mode": {
    "name": "ipython",
    "version": 3
   },
   "file_extension": ".py",
   "mimetype": "text/x-python",
   "name": "python",
   "nbconvert_exporter": "python",
   "pygments_lexer": "ipython3",
   "version": "3.10.14"
  }
 },
 "nbformat": 4,
 "nbformat_minor": 5
}
